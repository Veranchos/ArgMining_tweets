{
 "cells": [
  {
   "cell_type": "code",
   "execution_count": null,
   "id": "1695402c",
   "metadata": {},
   "outputs": [],
   "source": [
    "import pandas as pd\n",
    "import seaborn as sns\n",
    "from transformers import AutoTokenizer, AutoModelWithLMHead"
   ]
  },
  {
   "cell_type": "code",
   "execution_count": null,
   "id": "b5a761a9",
   "metadata": {},
   "outputs": [],
   "source": [
    "MODEL_PATH = \"mrm8488/t5-base-finetuned-emotion\""
   ]
  },
  {
   "cell_type": "code",
   "execution_count": null,
   "id": "0d27c7de",
   "metadata": {},
   "outputs": [],
   "source": [
    "tokenizer = AutoTokenizer.from_pretrained(MODEL_PATH)\n",
    "model = AutoModelWithLMHead.from_pretrained(MODEL_PATH)"
   ]
  },
  {
   "cell_type": "code",
   "execution_count": null,
   "id": "380e5552",
   "metadata": {},
   "outputs": [],
   "source": [
    "def get_emotion(text):\n",
    "    \n",
    "    input_ids = tokenizer.encode(text + '</s>', return_tensors='pt')\n",
    "    output = model.generate(input_ids=input_ids,\n",
    "                max_length=2)\n",
    "    dec = [tokenizer.decode(ids) for ids in output]\n",
    "    label = dec[0]\n",
    "    label = label.replace('<pad> ', '')\n",
    "    \n",
    "    return label"
   ]
  },
  {
   "cell_type": "code",
   "execution_count": null,
   "id": "c74d6d18",
   "metadata": {},
   "outputs": [],
   "source": [
    "def annotate_emotions(data_path):\n",
    "    df = pd.read_csv('data_path', sep='\\t')\n",
    "    df['emotion'] = df['text'].apply(lambda x: get_emotion(x))\n",
    "    return df"
   ]
  },
  {
   "cell_type": "code",
   "execution_count": null,
   "id": "69d404a1",
   "metadata": {},
   "outputs": [],
   "source": [
    "def draw_graph(df):\n",
    "    sns.set_palette(\"Paired\")\n",
    "    stance = sns.histplot(data=df, x=\"emotion\", hue=\"stance\", multiple=\"dodge\", shrink=.8)\n",
    "    sns.set(rc={\"figure.figsize\":(5, 3.5)})\n",
    "    stance.set_xlabel('Emotion', fontsize=9)\n",
    "    stance.set_ylabel('Number of tweets', fontsize=9)\n",
    "    stance.legend(title= 'Stance', title_fontsize=9,\\\n",
    "                  loc=\"lower center\", labels=['FAVOR', \"AGAINST\", 'NEITHER'], fontsize=9,\\\n",
    "                 bbox_to_anchor=(.5, 1), ncol=3, frameon=False)\n",
    "    \n",
    "\n",
    "    fig = stance.get_figure()\n",
    "    fig.show()\n",
    "    fig.savefig(\"emotions.eps\") \n",
    "    pass"
   ]
  }
 ],
 "metadata": {
  "kernelspec": {
   "display_name": "Python 3 (ipykernel)",
   "language": "python",
   "name": "python3"
  },
  "language_info": {
   "codemirror_mode": {
    "name": "ipython",
    "version": 3
   },
   "file_extension": ".py",
   "mimetype": "text/x-python",
   "name": "python",
   "nbconvert_exporter": "python",
   "pygments_lexer": "ipython3",
   "version": "3.7.12"
  }
 },
 "nbformat": 4,
 "nbformat_minor": 5
}
