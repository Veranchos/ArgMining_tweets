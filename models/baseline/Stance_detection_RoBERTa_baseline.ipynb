{
 "cells": [
  {
   "cell_type": "markdown",
   "metadata": {},
   "source": [
    "## Stance detection"
   ]
  },
  {
   "cell_type": "markdown",
   "metadata": {},
   "source": [
    "Here is a simple baseline for stance detection using RoBERTa model from [Simple Transformers](https://simpletransformers.ai/) library."
   ]
  },
  {
   "cell_type": "code",
   "execution_count": 102,
   "metadata": {},
   "outputs": [],
   "source": [
    "#import libs\n",
    "from simpletransformers.classification import ClassificationModel, ClassificationArgs\n",
    "import pandas as pd\n",
    "import logging\n",
    "import seaborn as sn\n",
    "import matplotlib.pyplot as plt"
   ]
  },
  {
   "cell_type": "code",
   "execution_count": 103,
   "metadata": {},
   "outputs": [],
   "source": [
    "#logging \n",
    "logging.basicConfig(level=logging.INFO)\n",
    "transformers_logger = logging.getLogger(\"transformers\")\n",
    "transformers_logger.setLevel(logging.WARNING)"
   ]
  },
  {
   "cell_type": "markdown",
   "metadata": {},
   "source": [
    "### Training"
   ]
  },
  {
   "cell_type": "code",
   "execution_count": 104,
   "metadata": {},
   "outputs": [],
   "source": [
    "#read train dataset\n",
    "train = pd.read_csv('task2_data/train.tsv', sep='\\t')"
   ]
  },
  {
   "cell_type": "code",
   "execution_count": 105,
   "metadata": {},
   "outputs": [
    {
     "data": {
      "text/html": [
       "<div>\n",
       "<style scoped>\n",
       "    .dataframe tbody tr th:only-of-type {\n",
       "        vertical-align: middle;\n",
       "    }\n",
       "\n",
       "    .dataframe tbody tr th {\n",
       "        vertical-align: top;\n",
       "    }\n",
       "\n",
       "    .dataframe thead th {\n",
       "        text-align: right;\n",
       "    }\n",
       "</style>\n",
       "<table border=\"1\" class=\"dataframe\">\n",
       "  <thead>\n",
       "    <tr style=\"text-align: right;\">\n",
       "      <th></th>\n",
       "      <th>id</th>\n",
       "      <th>text</th>\n",
       "      <th>Claim</th>\n",
       "      <th>labels</th>\n",
       "      <th>Premise</th>\n",
       "    </tr>\n",
       "  </thead>\n",
       "  <tbody>\n",
       "    <tr>\n",
       "      <th>0</th>\n",
       "      <td>3054935</td>\n",
       "      <td>@realDonaldTrump It's too dangerous to hold th...</td>\n",
       "      <td>school closures</td>\n",
       "      <td>1</td>\n",
       "      <td>1</td>\n",
       "    </tr>\n",
       "    <tr>\n",
       "      <th>1</th>\n",
       "      <td>453444</td>\n",
       "      <td>If masks are so important why is the public no...</td>\n",
       "      <td>face masks</td>\n",
       "      <td>0</td>\n",
       "      <td>1</td>\n",
       "    </tr>\n",
       "    <tr>\n",
       "      <th>2</th>\n",
       "      <td>211600</td>\n",
       "      <td>But if schools close who is gonna occupy those...</td>\n",
       "      <td>school closures</td>\n",
       "      <td>1</td>\n",
       "      <td>1</td>\n",
       "    </tr>\n",
       "    <tr>\n",
       "      <th>3</th>\n",
       "      <td>3049718</td>\n",
       "      <td>@GavinNewsom be the Governor I thought you wer...</td>\n",
       "      <td>stay at home orders</td>\n",
       "      <td>1</td>\n",
       "      <td>1</td>\n",
       "    </tr>\n",
       "    <tr>\n",
       "      <th>4</th>\n",
       "      <td>5039679580998</td>\n",
       "      <td>@BBCNews 1. You are reporting 78% uptake on ma...</td>\n",
       "      <td>face masks</td>\n",
       "      <td>1</td>\n",
       "      <td>1</td>\n",
       "    </tr>\n",
       "    <tr>\n",
       "      <th>...</th>\n",
       "      <td>...</td>\n",
       "      <td>...</td>\n",
       "      <td>...</td>\n",
       "      <td>...</td>\n",
       "      <td>...</td>\n",
       "    </tr>\n",
       "    <tr>\n",
       "      <th>3551</th>\n",
       "      <td>333323</td>\n",
       "      <td>@BremainInSpain #lockdown is a #lifechoice for...</td>\n",
       "      <td>stay at home orders</td>\n",
       "      <td>1</td>\n",
       "      <td>1</td>\n",
       "    </tr>\n",
       "    <tr>\n",
       "      <th>3552</th>\n",
       "      <td>910360</td>\n",
       "      <td>The next fucking asshole that tells me there i...</td>\n",
       "      <td>school closures</td>\n",
       "      <td>1</td>\n",
       "      <td>1</td>\n",
       "    </tr>\n",
       "    <tr>\n",
       "      <th>3553</th>\n",
       "      <td>769878</td>\n",
       "      <td>Learning should be constant...then . Why not i...</td>\n",
       "      <td>school closures</td>\n",
       "      <td>1</td>\n",
       "      <td>1</td>\n",
       "    </tr>\n",
       "    <tr>\n",
       "      <th>3554</th>\n",
       "      <td>648731</td>\n",
       "      <td>Every lockdown has had One Common Clause “Esse...</td>\n",
       "      <td>school closures</td>\n",
       "      <td>0</td>\n",
       "      <td>1</td>\n",
       "    </tr>\n",
       "    <tr>\n",
       "      <th>3555</th>\n",
       "      <td>245949</td>\n",
       "      <td>@DrZweliMkhize Don’t teachers and learners fal...</td>\n",
       "      <td>school closures</td>\n",
       "      <td>1</td>\n",
       "      <td>1</td>\n",
       "    </tr>\n",
       "  </tbody>\n",
       "</table>\n",
       "<p>3556 rows × 5 columns</p>\n",
       "</div>"
      ],
      "text/plain": [
       "                 id                                               text  \\\n",
       "0           3054935  @realDonaldTrump It's too dangerous to hold th...   \n",
       "1            453444  If masks are so important why is the public no...   \n",
       "2            211600  But if schools close who is gonna occupy those...   \n",
       "3           3049718  @GavinNewsom be the Governor I thought you wer...   \n",
       "4     5039679580998  @BBCNews 1. You are reporting 78% uptake on ma...   \n",
       "...             ...                                                ...   \n",
       "3551         333323  @BremainInSpain #lockdown is a #lifechoice for...   \n",
       "3552         910360  The next fucking asshole that tells me there i...   \n",
       "3553         769878  Learning should be constant...then . Why not i...   \n",
       "3554         648731  Every lockdown has had One Common Clause “Esse...   \n",
       "3555         245949  @DrZweliMkhize Don’t teachers and learners fal...   \n",
       "\n",
       "                    Claim labels  Premise  \n",
       "0         school closures      1        1  \n",
       "1              face masks      0        1  \n",
       "2         school closures      1        1  \n",
       "3     stay at home orders      1        1  \n",
       "4              face masks      1        1  \n",
       "...                   ...    ...      ...  \n",
       "3551  stay at home orders      1        1  \n",
       "3552      school closures      1        1  \n",
       "3553      school closures      1        1  \n",
       "3554      school closures      0        1  \n",
       "3555      school closures      1        1  \n",
       "\n",
       "[3556 rows x 5 columns]"
      ]
     },
     "execution_count": 105,
     "metadata": {},
     "output_type": "execute_result"
    }
   ],
   "source": [
    "#rename columns to match SimpleTransformers format\n",
    "column_names = {'Tweet': 'text', 'Stance':'labels'}\n",
    "train = train.rename(columns = column_names)\n",
    "\n",
    "#change labels to match SimpleTransformers format\n",
    "train.loc[train[\"labels\"] == \"AGAINST\", \"labels\"] = 0\n",
    "train.loc[train[\"labels\"] == \"FAVOR\", \"labels\"] = 1\n",
    "train.loc[train[\"labels\"] == \"NONE\", \"labels\"] = 2\n",
    "\n",
    "train"
   ]
  },
  {
   "cell_type": "markdown",
   "metadata": {},
   "source": [
    "Let's train our model!"
   ]
  },
  {
   "cell_type": "code",
   "execution_count": 13,
   "metadata": {},
   "outputs": [
    {
     "name": "stderr",
     "output_type": "stream",
     "text": [
      "Some weights of the model checkpoint at roberta-base were not used when initializing RobertaForSequenceClassification: ['lm_head.decoder.weight', 'lm_head.layer_norm.weight', 'lm_head.layer_norm.bias', 'roberta.pooler.dense.weight', 'lm_head.dense.weight', 'lm_head.dense.bias', 'roberta.pooler.dense.bias', 'lm_head.bias']\n",
      "- This IS expected if you are initializing RobertaForSequenceClassification from the checkpoint of a model trained on another task or with another architecture (e.g. initializing a BertForSequenceClassification model from a BertForPreTraining model).\n",
      "- This IS NOT expected if you are initializing RobertaForSequenceClassification from the checkpoint of a model that you expect to be exactly identical (initializing a BertForSequenceClassification model from a BertForSequenceClassification model).\n",
      "Some weights of RobertaForSequenceClassification were not initialized from the model checkpoint at roberta-base and are newly initialized: ['classifier.dense.weight', 'classifier.out_proj.weight', 'classifier.dense.bias', 'classifier.out_proj.bias']\n",
      "You should probably TRAIN this model on a down-stream task to be able to use it for predictions and inference.\n",
      "INFO:simpletransformers.classification.classification_utils: Converting to features started. Cache is not used.\n"
     ]
    },
    {
     "data": {
      "application/vnd.jupyter.widget-view+json": {
       "model_id": "11202f6a86ee4bf5bc2c18e88aa5de2f",
       "version_major": 2,
       "version_minor": 0
      },
      "text/plain": [
       "  0%|          | 0/3556 [00:00<?, ?it/s]"
      ]
     },
     "metadata": {},
     "output_type": "display_data"
    },
    {
     "name": "stderr",
     "output_type": "stream",
     "text": [
      "INFO:simpletransformers.classification.classification_utils: Saving features into cached file cache_dir/cached_train_roberta_128_3_2\n",
      "/home/jovyan/.imgenv-smm4h-gpu-0/lib/python3.7/site-packages/transformers/optimization.py:309: FutureWarning: This implementation of AdamW is deprecated and will be removed in a future version. Use the PyTorch implementation torch.optim.AdamW instead, or set `no_deprecation_warning=True` to disable this warning\n",
      "  FutureWarning,\n"
     ]
    },
    {
     "data": {
      "application/vnd.jupyter.widget-view+json": {
       "model_id": "aac596471cbd4f14b773aab6ee321e91",
       "version_major": 2,
       "version_minor": 0
      },
      "text/plain": [
       "Epoch:   0%|          | 0/1 [00:00<?, ?it/s]"
      ]
     },
     "metadata": {},
     "output_type": "display_data"
    },
    {
     "data": {
      "application/vnd.jupyter.widget-view+json": {
       "model_id": "0f69ef756f5345cdb59ec44a6a163d6f",
       "version_major": 2,
       "version_minor": 0
      },
      "text/plain": [
       "Running Epoch 0 of 1:   0%|          | 0/445 [00:00<?, ?it/s]"
      ]
     },
     "metadata": {},
     "output_type": "display_data"
    },
    {
     "name": "stderr",
     "output_type": "stream",
     "text": [
      "/home/user/conda/lib/python3.7/site-packages/torch/optim/lr_scheduler.py:200: UserWarning: Please also save or load the state of the optimzer when saving or loading the scheduler.\n",
      "  warnings.warn(SAVE_STATE_WARNING, UserWarning)\n",
      "INFO:simpletransformers.classification.classification_model: Training of roberta model complete. Saved to outputs/.\n"
     ]
    },
    {
     "name": "stdout",
     "output_type": "stream",
     "text": [
      "CPU times: user 30.6 s, sys: 8.1 s, total: 38.7 s\n",
      "Wall time: 47.6 s\n"
     ]
    },
    {
     "data": {
      "text/plain": [
       "(445, 0.9310487619946511)"
      ]
     },
     "execution_count": 13,
     "metadata": {},
     "output_type": "execute_result"
    }
   ],
   "source": [
    "%%time\n",
    "model = ClassificationModel(\n",
    "    \"roberta\", \"roberta-base\", num_labels=3\n",
    ")\n",
    "model.train_model(train)"
   ]
  },
  {
   "cell_type": "markdown",
   "metadata": {},
   "source": [
    "### Validation"
   ]
  },
  {
   "cell_type": "code",
   "execution_count": 112,
   "metadata": {},
   "outputs": [],
   "source": [
    "#read validation dataset\n",
    "val = pd.read_csv('SMM4H_Task2_data/validation.tsv', sep='\\t')\n",
    "\n",
    "#rename columns and values to match the format\n",
    "val = val.rename(columns=column_names)\n",
    "val.loc[val[\"labels\"] == \"AGAINST\", \"labels\"] = 0\n",
    "val.loc[val[\"labels\"] == \"FAVOR\", \"labels\"] = 1\n",
    "val.loc[val[\"labels\"] == \"NONE\", \"labels\"] = 2"
   ]
  },
  {
   "cell_type": "code",
   "execution_count": 20,
   "metadata": {},
   "outputs": [
    {
     "name": "stderr",
     "output_type": "stream",
     "text": [
      "INFO:simpletransformers.classification.classification_utils: Converting to features started. Cache is not used.\n"
     ]
    },
    {
     "data": {
      "application/vnd.jupyter.widget-view+json": {
       "model_id": "d5549862692f46c6a9bb7e3974830dc2",
       "version_major": 2,
       "version_minor": 0
      },
      "text/plain": [
       "  0%|          | 0/600 [00:00<?, ?it/s]"
      ]
     },
     "metadata": {},
     "output_type": "display_data"
    },
    {
     "name": "stderr",
     "output_type": "stream",
     "text": [
      "INFO:simpletransformers.classification.classification_utils: Saving features into cached file cache_dir/cached_dev_roberta_128_3_2\n"
     ]
    },
    {
     "data": {
      "application/vnd.jupyter.widget-view+json": {
       "model_id": "1b9118cb1ad949548d93f8169077cbbe",
       "version_major": 2,
       "version_minor": 0
      },
      "text/plain": [
       "Running Evaluation:   0%|          | 0/75 [00:00<?, ?it/s]"
      ]
     },
     "metadata": {},
     "output_type": "display_data"
    },
    {
     "name": "stderr",
     "output_type": "stream",
     "text": [
      "INFO:simpletransformers.classification.classification_model:{'mcc': 0.4866502453186264, 'eval_loss': 0.7884440489610036}\n"
     ]
    }
   ],
   "source": [
    "# Evaluate the model\n",
    "result, model_outputs, wrong_predictions = model.eval_model(val)\n",
    "result"
   ]
  },
  {
   "cell_type": "code",
   "execution_count": 74,
   "metadata": {},
   "outputs": [
    {
     "name": "stderr",
     "output_type": "stream",
     "text": [
      "INFO:simpletransformers.classification.classification_utils: Converting to features started. Cache is not used.\n"
     ]
    },
    {
     "data": {
      "application/vnd.jupyter.widget-view+json": {
       "model_id": "cfbb4fddaafc4c549207d9781523ea2a",
       "version_major": 2,
       "version_minor": 0
      },
      "text/plain": [
       "  0%|          | 0/610 [00:00<?, ?it/s]"
      ]
     },
     "metadata": {},
     "output_type": "display_data"
    },
    {
     "data": {
      "application/vnd.jupyter.widget-view+json": {
       "model_id": "3a5618c1673049fba0e0d5fbfb3aff58",
       "version_major": 2,
       "version_minor": 0
      },
      "text/plain": [
       "  0%|          | 0/77 [00:00<?, ?it/s]"
      ]
     },
     "metadata": {},
     "output_type": "display_data"
    }
   ],
   "source": [
    "#Make predictions on validation tweets\n",
    "tweets_val = list(val['text'])\n",
    "stance_predictions = model.predict(tweets_val)[0]\n",
    "val['predictions'] = stance_predictions"
   ]
  },
  {
   "cell_type": "code",
   "execution_count": 95,
   "metadata": {},
   "outputs": [
    {
     "data": {
      "image/png": "[encoded data removed]",
      "text/plain": [
       "<Figure size 432x288 with 2 Axes>"
      ]
     },
     "metadata": {
      "needs_background": "light"
     },
     "output_type": "display_data"
    }
   ],
   "source": [
    "#Let's look at model's predictions distribution\n",
    "confusion_matrix = pd.crosstab(val['labels'], val['predictions'], rownames=['Actual'], colnames=['Predicted'])\n",
    "\n",
    "sn.heatmap(confusion_matrix, annot=True, fmt='d')\n",
    "plt.show()"
   ]
  },
  {
   "cell_type": "code",
   "execution_count": 101,
   "metadata": {},
   "outputs": [
    {
     "data": {
      "text/html": [
       "<div>\n",
       "<style scoped>\n",
       "    .dataframe tbody tr th:only-of-type {\n",
       "        vertical-align: middle;\n",
       "    }\n",
       "\n",
       "    .dataframe tbody tr th {\n",
       "        vertical-align: top;\n",
       "    }\n",
       "\n",
       "    .dataframe thead th {\n",
       "        text-align: right;\n",
       "    }\n",
       "</style>\n",
       "<table border=\"1\" class=\"dataframe\">\n",
       "  <thead>\n",
       "    <tr style=\"text-align: right;\">\n",
       "      <th></th>\n",
       "      <th>id</th>\n",
       "      <th>text</th>\n",
       "      <th>Claim</th>\n",
       "      <th>Stance</th>\n",
       "    </tr>\n",
       "  </thead>\n",
       "  <tbody>\n",
       "    <tr>\n",
       "      <th>0</th>\n",
       "      <td>7212131785749</td>\n",
       "      <td>Ordered a mask that had a cute chain attached ...</td>\n",
       "      <td>face masks</td>\n",
       "      <td>1</td>\n",
       "    </tr>\n",
       "    <tr>\n",
       "      <th>1</th>\n",
       "      <td>2367433035</td>\n",
       "      <td>Who is ready for some #baseball?  #BaseballisB...</td>\n",
       "      <td>stay at home orders</td>\n",
       "      <td>2</td>\n",
       "    </tr>\n",
       "    <tr>\n",
       "      <th>2</th>\n",
       "      <td>496011</td>\n",
       "      <td>@Mystere07623203 @va_shiva @Liberty13046 130,0...</td>\n",
       "      <td>face masks</td>\n",
       "      <td>2</td>\n",
       "    </tr>\n",
       "    <tr>\n",
       "      <th>3</th>\n",
       "      <td>1490686</td>\n",
       "      <td>When they ask me what I did with my life I wil...</td>\n",
       "      <td>face masks</td>\n",
       "      <td>1</td>\n",
       "    </tr>\n",
       "    <tr>\n",
       "      <th>4</th>\n",
       "      <td>1209366</td>\n",
       "      <td>Taylor not putting her album in physical store...</td>\n",
       "      <td>stay at home orders</td>\n",
       "      <td>1</td>\n",
       "    </tr>\n",
       "    <tr>\n",
       "      <th>...</th>\n",
       "      <td>...</td>\n",
       "      <td>...</td>\n",
       "      <td>...</td>\n",
       "      <td>...</td>\n",
       "    </tr>\n",
       "    <tr>\n",
       "      <th>605</th>\n",
       "      <td>668580</td>\n",
       "      <td>Kenyan Education Minister recently announced t...</td>\n",
       "      <td>school closures</td>\n",
       "      <td>1</td>\n",
       "    </tr>\n",
       "    <tr>\n",
       "      <th>606</th>\n",
       "      <td>3583631</td>\n",
       "      <td>@BorisJohnson Never thought I’d say it Boris b...</td>\n",
       "      <td>face masks</td>\n",
       "      <td>1</td>\n",
       "    </tr>\n",
       "    <tr>\n",
       "      <th>607</th>\n",
       "      <td>1092611825</td>\n",
       "      <td>If Private schools have earned for many years ...</td>\n",
       "      <td>school closures</td>\n",
       "      <td>2</td>\n",
       "    </tr>\n",
       "    <tr>\n",
       "      <th>608</th>\n",
       "      <td>530814</td>\n",
       "      <td>Hearing rumblings of a stay-at-home order for ...</td>\n",
       "      <td>school closures</td>\n",
       "      <td>1</td>\n",
       "    </tr>\n",
       "    <tr>\n",
       "      <th>609</th>\n",
       "      <td>3062708460</td>\n",
       "      <td>:notes::arrow_forward:Mad o @DJXCLUSIVE   On #...</td>\n",
       "      <td>stay at home orders</td>\n",
       "      <td>2</td>\n",
       "    </tr>\n",
       "  </tbody>\n",
       "</table>\n",
       "<p>610 rows × 4 columns</p>\n",
       "</div>"
      ],
      "text/plain": [
       "                id                                               text  \\\n",
       "0    7212131785749  Ordered a mask that had a cute chain attached ...   \n",
       "1       2367433035  Who is ready for some #baseball?  #BaseballisB...   \n",
       "2           496011  @Mystere07623203 @va_shiva @Liberty13046 130,0...   \n",
       "3          1490686  When they ask me what I did with my life I wil...   \n",
       "4          1209366  Taylor not putting her album in physical store...   \n",
       "..             ...                                                ...   \n",
       "605         668580  Kenyan Education Minister recently announced t...   \n",
       "606        3583631  @BorisJohnson Never thought I’d say it Boris b...   \n",
       "607     1092611825  If Private schools have earned for many years ...   \n",
       "608         530814  Hearing rumblings of a stay-at-home order for ...   \n",
       "609     3062708460  :notes::arrow_forward:Mad o @DJXCLUSIVE   On #...   \n",
       "\n",
       "                   Claim  Stance  \n",
       "0             face masks       1  \n",
       "1    stay at home orders       2  \n",
       "2             face masks       2  \n",
       "3             face masks       1  \n",
       "4    stay at home orders       1  \n",
       "..                   ...     ...  \n",
       "605      school closures       1  \n",
       "606           face masks       1  \n",
       "607      school closures       2  \n",
       "608      school closures       1  \n",
       "609  stay at home orders       2  \n",
       "\n",
       "[610 rows x 4 columns]"
      ]
     },
     "execution_count": 101,
     "metadata": {},
     "output_type": "execute_result"
    }
   ],
   "source": [
    "#Mapping back integer labels to words\n",
    "val.loc[val[\"predictions\"] == 0, \"predictions\"] = \"AGAINST\"\n",
    "val.loc[val[\"predictions\"] == 1, \"predictions\"] = \"FAVOR\"\n",
    "val.loc[val[\"predictions\"] == 2, \"predictions\"] = \"NONE\"\n",
    "#Final submission is need to be in the following format\n",
    "val = val.drop(columns=['labels', 'Premise']).rename(columns={'predictions':\n",
    "                                                      'Stance'})\n",
    "val"
   ]
  },
  {
   "cell_type": "code",
   "execution_count": null,
   "metadata": {},
   "outputs": [],
   "source": [
    "#save model predictions to .tsv file\n",
    "val.to_csv('stance_predictions.tsv', sep='\\t', index=False)"
   ]
  },
  {
   "cell_type": "markdown",
   "metadata": {},
   "source": [
    "The next step is to archive this .tsv file and upload the .zip file to the Codalab competition page (Participate -> Submit/View Results -> \"Subtask 2a: Stance detection, Development\").\n",
    "Be sure to have only the .tsv in the zip, no folders and no hidden files.\n",
    "After successful submission, you will see the metrics. If you want your submission to be published on the leaderboard, you can press the \"Submit to Leaderboard\" button.\n",
    "If you have any questions related to submission format/evaluation/registration etc., please, write to veranchos@gmail.com. \n",
    "\n",
    "Good luck!🍀"
   ]
  }
 ],
 "metadata": {
  "kernelspec": {
   "display_name": "Python 3",
   "language": "python",
   "name": "python3"
  },
  "language_info": {
   "codemirror_mode": {
    "name": "ipython",
    "version": 3
   },
   "file_extension": ".py",
   "mimetype": "text/x-python",
   "name": "python",
   "nbconvert_exporter": "python",
   "pygments_lexer": "ipython3",
   "version": "3.6.5"
  }
 },
 "nbformat": 4,
 "nbformat_minor": 5
}
