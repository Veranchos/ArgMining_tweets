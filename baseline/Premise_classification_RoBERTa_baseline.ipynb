{
 "cells": [
  {
   "cell_type": "markdown",
   "metadata": {},
   "source": [
    "## Premise Classification"
   ]
  },
  {
   "cell_type": "markdown",
   "metadata": {},
   "source": [
    "Here is a simple baseline for Premise Classification using RoBERTa model from [Simple Transformers](https://simpletransformers.ai/) library."
   ]
  },
  {
   "cell_type": "code",
   "execution_count": 1,
   "metadata": {},
   "outputs": [
    {
     "name": "stderr",
     "output_type": "stream",
     "text": [
      "2022-06-21 19:32:49.046616: I tensorflow/stream_executor/platform/default/dso_loader.cc:48] Successfully opened dynamic library libcudart.so.10.1\n"
     ]
    }
   ],
   "source": [
    "#import libs\n",
    "from simpletransformers.classification import ClassificationModel, ClassificationArgs\n",
    "import pandas as pd\n",
    "import logging\n",
    "import seaborn as sn\n",
    "import matplotlib.pyplot as plt"
   ]
  },
  {
   "cell_type": "code",
   "execution_count": 2,
   "metadata": {},
   "outputs": [],
   "source": [
    "#logging \n",
    "logging.basicConfig(level=logging.INFO)\n",
    "transformers_logger = logging.getLogger(\"transformers\")\n",
    "transformers_logger.setLevel(logging.WARNING)"
   ]
  },
  {
   "cell_type": "markdown",
   "metadata": {},
   "source": [
    "### Training"
   ]
  },
  {
   "cell_type": "code",
   "execution_count": 3,
   "metadata": {},
   "outputs": [],
   "source": [
    "#read train dataset\n",
    "train = pd.read_csv('task2_data/train.tsv', sep='\\t')"
   ]
  },
  {
   "cell_type": "code",
   "execution_count": 4,
   "metadata": {},
   "outputs": [
    {
     "data": {
      "text/html": [
       "<div>\n",
       "<style scoped>\n",
       "    .dataframe tbody tr th:only-of-type {\n",
       "        vertical-align: middle;\n",
       "    }\n",
       "\n",
       "    .dataframe tbody tr th {\n",
       "        vertical-align: top;\n",
       "    }\n",
       "\n",
       "    .dataframe thead th {\n",
       "        text-align: right;\n",
       "    }\n",
       "</style>\n",
       "<table border=\"1\" class=\"dataframe\">\n",
       "  <thead>\n",
       "    <tr style=\"text-align: right;\">\n",
       "      <th></th>\n",
       "      <th>id</th>\n",
       "      <th>text</th>\n",
       "      <th>Claim</th>\n",
       "      <th>Stance</th>\n",
       "      <th>labels</th>\n",
       "    </tr>\n",
       "  </thead>\n",
       "  <tbody>\n",
       "    <tr>\n",
       "      <th>0</th>\n",
       "      <td>3054935</td>\n",
       "      <td>@realDonaldTrump It's too dangerous to hold th...</td>\n",
       "      <td>school closures</td>\n",
       "      <td>FAVOR</td>\n",
       "      <td>1</td>\n",
       "    </tr>\n",
       "    <tr>\n",
       "      <th>1</th>\n",
       "      <td>453444</td>\n",
       "      <td>If masks are so important why is the public no...</td>\n",
       "      <td>face masks</td>\n",
       "      <td>AGAINST</td>\n",
       "      <td>1</td>\n",
       "    </tr>\n",
       "    <tr>\n",
       "      <th>2</th>\n",
       "      <td>211600</td>\n",
       "      <td>But if schools close who is gonna occupy those...</td>\n",
       "      <td>school closures</td>\n",
       "      <td>FAVOR</td>\n",
       "      <td>1</td>\n",
       "    </tr>\n",
       "    <tr>\n",
       "      <th>3</th>\n",
       "      <td>3049718</td>\n",
       "      <td>@GavinNewsom be the Governor I thought you wer...</td>\n",
       "      <td>stay at home orders</td>\n",
       "      <td>FAVOR</td>\n",
       "      <td>1</td>\n",
       "    </tr>\n",
       "    <tr>\n",
       "      <th>4</th>\n",
       "      <td>5039679580998</td>\n",
       "      <td>@BBCNews 1. You are reporting 78% uptake on ma...</td>\n",
       "      <td>face masks</td>\n",
       "      <td>FAVOR</td>\n",
       "      <td>1</td>\n",
       "    </tr>\n",
       "    <tr>\n",
       "      <th>...</th>\n",
       "      <td>...</td>\n",
       "      <td>...</td>\n",
       "      <td>...</td>\n",
       "      <td>...</td>\n",
       "      <td>...</td>\n",
       "    </tr>\n",
       "    <tr>\n",
       "      <th>3551</th>\n",
       "      <td>333323</td>\n",
       "      <td>@BremainInSpain #lockdown is a #lifechoice for...</td>\n",
       "      <td>stay at home orders</td>\n",
       "      <td>FAVOR</td>\n",
       "      <td>1</td>\n",
       "    </tr>\n",
       "    <tr>\n",
       "      <th>3552</th>\n",
       "      <td>910360</td>\n",
       "      <td>The next fucking asshole that tells me there i...</td>\n",
       "      <td>school closures</td>\n",
       "      <td>FAVOR</td>\n",
       "      <td>1</td>\n",
       "    </tr>\n",
       "    <tr>\n",
       "      <th>3553</th>\n",
       "      <td>769878</td>\n",
       "      <td>Learning should be constant...then . Why not i...</td>\n",
       "      <td>school closures</td>\n",
       "      <td>FAVOR</td>\n",
       "      <td>1</td>\n",
       "    </tr>\n",
       "    <tr>\n",
       "      <th>3554</th>\n",
       "      <td>648731</td>\n",
       "      <td>Every lockdown has had One Common Clause “Esse...</td>\n",
       "      <td>school closures</td>\n",
       "      <td>AGAINST</td>\n",
       "      <td>1</td>\n",
       "    </tr>\n",
       "    <tr>\n",
       "      <th>3555</th>\n",
       "      <td>245949</td>\n",
       "      <td>@DrZweliMkhize Don’t teachers and learners fal...</td>\n",
       "      <td>school closures</td>\n",
       "      <td>FAVOR</td>\n",
       "      <td>1</td>\n",
       "    </tr>\n",
       "  </tbody>\n",
       "</table>\n",
       "<p>3556 rows × 5 columns</p>\n",
       "</div>"
      ],
      "text/plain": [
       "                 id                                               text  \\\n",
       "0           3054935  @realDonaldTrump It's too dangerous to hold th...   \n",
       "1            453444  If masks are so important why is the public no...   \n",
       "2            211600  But if schools close who is gonna occupy those...   \n",
       "3           3049718  @GavinNewsom be the Governor I thought you wer...   \n",
       "4     5039679580998  @BBCNews 1. You are reporting 78% uptake on ma...   \n",
       "...             ...                                                ...   \n",
       "3551         333323  @BremainInSpain #lockdown is a #lifechoice for...   \n",
       "3552         910360  The next fucking asshole that tells me there i...   \n",
       "3553         769878  Learning should be constant...then . Why not i...   \n",
       "3554         648731  Every lockdown has had One Common Clause “Esse...   \n",
       "3555         245949  @DrZweliMkhize Don’t teachers and learners fal...   \n",
       "\n",
       "                    Claim   Stance  labels  \n",
       "0         school closures    FAVOR       1  \n",
       "1              face masks  AGAINST       1  \n",
       "2         school closures    FAVOR       1  \n",
       "3     stay at home orders    FAVOR       1  \n",
       "4              face masks    FAVOR       1  \n",
       "...                   ...      ...     ...  \n",
       "3551  stay at home orders    FAVOR       1  \n",
       "3552      school closures    FAVOR       1  \n",
       "3553      school closures    FAVOR       1  \n",
       "3554      school closures  AGAINST       1  \n",
       "3555      school closures    FAVOR       1  \n",
       "\n",
       "[3556 rows x 5 columns]"
      ]
     },
     "execution_count": 4,
     "metadata": {},
     "output_type": "execute_result"
    }
   ],
   "source": [
    "#rename columns to match SimpleTransformers format\n",
    "column_names = {'Tweet': 'text', 'Premise':'labels'}\n",
    "train = train.rename(columns = column_names)\n",
    "\n",
    "train"
   ]
  },
  {
   "cell_type": "markdown",
   "metadata": {},
   "source": [
    "Let's train our model!"
   ]
  },
  {
   "cell_type": "code",
   "execution_count": 8,
   "metadata": {},
   "outputs": [],
   "source": [
    "# Optional model configuration\n",
    "model_args = ClassificationArgs(num_train_epochs=1)"
   ]
  },
  {
   "cell_type": "code",
   "execution_count": 10,
   "metadata": {},
   "outputs": [
    {
     "name": "stderr",
     "output_type": "stream",
     "text": [
      "Some weights of the model checkpoint at roberta-base were not used when initializing RobertaForSequenceClassification: ['lm_head.dense.weight', 'lm_head.layer_norm.bias', 'roberta.pooler.dense.bias', 'lm_head.layer_norm.weight', 'roberta.pooler.dense.weight', 'lm_head.decoder.weight', 'lm_head.bias', 'lm_head.dense.bias']\n",
      "- This IS expected if you are initializing RobertaForSequenceClassification from the checkpoint of a model trained on another task or with another architecture (e.g. initializing a BertForSequenceClassification model from a BertForPreTraining model).\n",
      "- This IS NOT expected if you are initializing RobertaForSequenceClassification from the checkpoint of a model that you expect to be exactly identical (initializing a BertForSequenceClassification model from a BertForSequenceClassification model).\n",
      "Some weights of RobertaForSequenceClassification were not initialized from the model checkpoint at roberta-base and are newly initialized: ['classifier.dense.weight', 'classifier.out_proj.bias', 'classifier.dense.bias', 'classifier.out_proj.weight']\n",
      "You should probably TRAIN this model on a down-stream task to be able to use it for predictions and inference.\n",
      "INFO:simpletransformers.classification.classification_utils: Converting to features started. Cache is not used.\n"
     ]
    },
    {
     "data": {
      "application/vnd.jupyter.widget-view+json": {
       "model_id": "c425c5fd20654ff1962566c9cb41d9be",
       "version_major": 2,
       "version_minor": 0
      },
      "text/plain": [
       "  0%|          | 0/3556 [00:00<?, ?it/s]"
      ]
     },
     "metadata": {},
     "output_type": "display_data"
    },
    {
     "name": "stderr",
     "output_type": "stream",
     "text": [
      "INFO:simpletransformers.classification.classification_utils: Saving features into cached file cache_dir/cached_train_roberta_128_2_2\n"
     ]
    },
    {
     "data": {
      "application/vnd.jupyter.widget-view+json": {
       "model_id": "e7ee0d0a154f4bbab31ac0c423d977a1",
       "version_major": 2,
       "version_minor": 0
      },
      "text/plain": [
       "Epoch:   0%|          | 0/1 [00:00<?, ?it/s]"
      ]
     },
     "metadata": {},
     "output_type": "display_data"
    },
    {
     "data": {
      "application/vnd.jupyter.widget-view+json": {
       "model_id": "08a6048ec00d4c8a8fec564e0b7c9d1e",
       "version_major": 2,
       "version_minor": 0
      },
      "text/plain": [
       "Running Epoch 0 of 1:   0%|          | 0/445 [00:00<?, ?it/s]"
      ]
     },
     "metadata": {},
     "output_type": "display_data"
    },
    {
     "name": "stderr",
     "output_type": "stream",
     "text": [
      "INFO:simpletransformers.classification.classification_model: Training of roberta model complete. Saved to outputs/.\n"
     ]
    },
    {
     "name": "stdout",
     "output_type": "stream",
     "text": [
      "CPU times: user 30.4 s, sys: 9.99 s, total: 40.4 s\n",
      "Wall time: 49.5 s\n"
     ]
    },
    {
     "data": {
      "text/plain": [
       "(445, 0.5568379437990403)"
      ]
     },
     "execution_count": 10,
     "metadata": {},
     "output_type": "execute_result"
    }
   ],
   "source": [
    "%%time\n",
    "model = ClassificationModel(\n",
    "    \"roberta\", \"roberta-base\", args=model_args\n",
    ")\n",
    "model.train_model(train)"
   ]
  },
  {
   "cell_type": "markdown",
   "metadata": {},
   "source": [
    "### Validation"
   ]
  },
  {
   "cell_type": "code",
   "execution_count": 31,
   "metadata": {},
   "outputs": [],
   "source": [
    "#read validation dataset\n",
    "val = pd.read_csv('task2_data/validation.tsv', sep='\\t')\n",
    "\n",
    "#rename columns and values to match the format\n",
    "val = val.rename(columns=column_names)"
   ]
  },
  {
   "cell_type": "code",
   "execution_count": 33,
   "metadata": {},
   "outputs": [
    {
     "name": "stderr",
     "output_type": "stream",
     "text": [
      "INFO:simpletransformers.classification.classification_utils: Converting to features started. Cache is not used.\n"
     ]
    },
    {
     "data": {
      "application/vnd.jupyter.widget-view+json": {
       "model_id": "4bde3b9b887d4dd0966873033d071201",
       "version_major": 2,
       "version_minor": 0
      },
      "text/plain": [
       "  0%|          | 0/600 [00:00<?, ?it/s]"
      ]
     },
     "metadata": {},
     "output_type": "display_data"
    },
    {
     "name": "stderr",
     "output_type": "stream",
     "text": [
      "INFO:simpletransformers.classification.classification_utils: Saving features into cached file cache_dir/cached_dev_roberta_128_2_2\n"
     ]
    },
    {
     "data": {
      "application/vnd.jupyter.widget-view+json": {
       "model_id": "4ae1805b4f8543f297c0f5f0ec9bad60",
       "version_major": 2,
       "version_minor": 0
      },
      "text/plain": [
       "Running Evaluation:   0%|          | 0/75 [00:00<?, ?it/s]"
      ]
     },
     "metadata": {},
     "output_type": "display_data"
    },
    {
     "name": "stderr",
     "output_type": "stream",
     "text": [
      "INFO:simpletransformers.classification.classification_model:{'mcc': 0.5553213483570286, 'tp': 170, 'tn': 302, 'fp': 78, 'fn': 50, 'auroc': 0.875651913875598, 'auprc': 0.787590895718238, 'eval_loss': 0.4346450596054395}\n"
     ]
    },
    {
     "data": {
      "text/plain": [
       "{'mcc': 0.5553213483570286,\n",
       " 'tp': 170,\n",
       " 'tn': 302,\n",
       " 'fp': 78,\n",
       " 'fn': 50,\n",
       " 'auroc': 0.875651913875598,\n",
       " 'auprc': 0.787590895718238,\n",
       " 'eval_loss': 0.4346450596054395}"
      ]
     },
     "execution_count": 33,
     "metadata": {},
     "output_type": "execute_result"
    }
   ],
   "source": [
    "# Evaluate the model\n",
    "result, model_outputs, wrong_predictions = model.eval_model(val)\n",
    "result"
   ]
  },
  {
   "cell_type": "code",
   "execution_count": 34,
   "metadata": {},
   "outputs": [
    {
     "name": "stderr",
     "output_type": "stream",
     "text": [
      "INFO:simpletransformers.classification.classification_utils: Converting to features started. Cache is not used.\n"
     ]
    },
    {
     "data": {
      "application/vnd.jupyter.widget-view+json": {
       "model_id": "df663ed401e34131a42afcc9d10924b1",
       "version_major": 2,
       "version_minor": 0
      },
      "text/plain": [
       "  0%|          | 0/600 [00:00<?, ?it/s]"
      ]
     },
     "metadata": {},
     "output_type": "display_data"
    },
    {
     "data": {
      "application/vnd.jupyter.widget-view+json": {
       "model_id": "2fd630ebecb641e6b4fbc130f4e05a88",
       "version_major": 2,
       "version_minor": 0
      },
      "text/plain": [
       "  0%|          | 0/75 [00:00<?, ?it/s]"
      ]
     },
     "metadata": {},
     "output_type": "display_data"
    }
   ],
   "source": [
    "#Make predictions on validation tweets\n",
    "tweets_val = list(val['text'])\n",
    "stance_predictions = model.predict(tweets_val)[0]\n",
    "val['predictions'] = stance_predictions"
   ]
  },
  {
   "cell_type": "code",
   "execution_count": 35,
   "metadata": {},
   "outputs": [
    {
     "data": {
      "image/png": "[encoded data removed]",
      "text/plain": [
       "<Figure size 432x288 with 2 Axes>"
      ]
     },
     "metadata": {
      "needs_background": "light"
     },
     "output_type": "display_data"
    }
   ],
   "source": [
    "#Let's look at model's predictions distribution\n",
    "confusion_matrix = pd.crosstab(val['labels'], val['predictions'], rownames=['Actual'], colnames=['Predicted'])\n",
    "\n",
    "sn.heatmap(confusion_matrix, annot=True, fmt='d')\n",
    "plt.show()"
   ]
  },
  {
   "cell_type": "code",
   "execution_count": 36,
   "metadata": {},
   "outputs": [
    {
     "data": {
      "text/html": [
       "<div>\n",
       "<style scoped>\n",
       "    .dataframe tbody tr th:only-of-type {\n",
       "        vertical-align: middle;\n",
       "    }\n",
       "\n",
       "    .dataframe tbody tr th {\n",
       "        vertical-align: top;\n",
       "    }\n",
       "\n",
       "    .dataframe thead th {\n",
       "        text-align: right;\n",
       "    }\n",
       "</style>\n",
       "<table border=\"1\" class=\"dataframe\">\n",
       "  <thead>\n",
       "    <tr style=\"text-align: right;\">\n",
       "      <th></th>\n",
       "      <th>id</th>\n",
       "      <th>text</th>\n",
       "      <th>Claim</th>\n",
       "      <th>Premise</th>\n",
       "    </tr>\n",
       "  </thead>\n",
       "  <tbody>\n",
       "    <tr>\n",
       "      <th>0</th>\n",
       "      <td>7212131785749</td>\n",
       "      <td>Ordered a mask that had a cute chain attached ...</td>\n",
       "      <td>face masks</td>\n",
       "      <td>0</td>\n",
       "    </tr>\n",
       "    <tr>\n",
       "      <th>1</th>\n",
       "      <td>2367433035</td>\n",
       "      <td>Who is ready for some #baseball?  #BaseballisB...</td>\n",
       "      <td>stay at home orders</td>\n",
       "      <td>0</td>\n",
       "    </tr>\n",
       "    <tr>\n",
       "      <th>2</th>\n",
       "      <td>496011</td>\n",
       "      <td>@Mystere07623203 @va_shiva @Liberty13046 130,0...</td>\n",
       "      <td>face masks</td>\n",
       "      <td>1</td>\n",
       "    </tr>\n",
       "    <tr>\n",
       "      <th>3</th>\n",
       "      <td>1490686</td>\n",
       "      <td>When they ask me what I did with my life I wil...</td>\n",
       "      <td>face masks</td>\n",
       "      <td>0</td>\n",
       "    </tr>\n",
       "    <tr>\n",
       "      <th>4</th>\n",
       "      <td>1209366</td>\n",
       "      <td>Taylor not putting her album in physical store...</td>\n",
       "      <td>stay at home orders</td>\n",
       "      <td>0</td>\n",
       "    </tr>\n",
       "    <tr>\n",
       "      <th>...</th>\n",
       "      <td>...</td>\n",
       "      <td>...</td>\n",
       "      <td>...</td>\n",
       "      <td>...</td>\n",
       "    </tr>\n",
       "    <tr>\n",
       "      <th>595</th>\n",
       "      <td>2949472</td>\n",
       "      <td>@BrianKempGA is one of the few #Governors that...</td>\n",
       "      <td>face masks</td>\n",
       "      <td>0</td>\n",
       "    </tr>\n",
       "    <tr>\n",
       "      <th>596</th>\n",
       "      <td>208269</td>\n",
       "      <td>I tested positive for Covid. Got it from a fri...</td>\n",
       "      <td>face masks</td>\n",
       "      <td>1</td>\n",
       "    </tr>\n",
       "    <tr>\n",
       "      <th>597</th>\n",
       "      <td>2316008</td>\n",
       "      <td>If you are under retirement age, you have a *m...</td>\n",
       "      <td>stay at home orders</td>\n",
       "      <td>1</td>\n",
       "    </tr>\n",
       "    <tr>\n",
       "      <th>598</th>\n",
       "      <td>659269</td>\n",
       "      <td>@TheLalasventure @doqholliday @realDonaldTrump...</td>\n",
       "      <td>face masks</td>\n",
       "      <td>0</td>\n",
       "    </tr>\n",
       "    <tr>\n",
       "      <th>599</th>\n",
       "      <td>1940282</td>\n",
       "      <td>@Caissie Obviously I was simply practicing my ...</td>\n",
       "      <td>face masks</td>\n",
       "      <td>0</td>\n",
       "    </tr>\n",
       "  </tbody>\n",
       "</table>\n",
       "<p>600 rows × 4 columns</p>\n",
       "</div>"
      ],
      "text/plain": [
       "                id                                               text  \\\n",
       "0    7212131785749  Ordered a mask that had a cute chain attached ...   \n",
       "1       2367433035  Who is ready for some #baseball?  #BaseballisB...   \n",
       "2           496011  @Mystere07623203 @va_shiva @Liberty13046 130,0...   \n",
       "3          1490686  When they ask me what I did with my life I wil...   \n",
       "4          1209366  Taylor not putting her album in physical store...   \n",
       "..             ...                                                ...   \n",
       "595        2949472  @BrianKempGA is one of the few #Governors that...   \n",
       "596         208269  I tested positive for Covid. Got it from a fri...   \n",
       "597        2316008  If you are under retirement age, you have a *m...   \n",
       "598         659269  @TheLalasventure @doqholliday @realDonaldTrump...   \n",
       "599        1940282  @Caissie Obviously I was simply practicing my ...   \n",
       "\n",
       "                   Claim  Premise  \n",
       "0             face masks        0  \n",
       "1    stay at home orders        0  \n",
       "2             face masks        1  \n",
       "3             face masks        0  \n",
       "4    stay at home orders        0  \n",
       "..                   ...      ...  \n",
       "595           face masks        0  \n",
       "596           face masks        1  \n",
       "597  stay at home orders        1  \n",
       "598           face masks        0  \n",
       "599           face masks        0  \n",
       "\n",
       "[600 rows x 4 columns]"
      ]
     },
     "execution_count": 36,
     "metadata": {},
     "output_type": "execute_result"
    }
   ],
   "source": [
    "#Final submission is need to be in the following format\n",
    "val = val.drop(columns=['labels', 'Stance']).rename(columns={'predictions':\n",
    "                                                      'Premise'})\n",
    "val"
   ]
  },
  {
   "cell_type": "code",
   "execution_count": 37,
   "metadata": {},
   "outputs": [],
   "source": [
    "#save model predictions to .tsv file\n",
    "val.to_csv('premise_predictions.tsv', sep='\\t', index=False)"
   ]
  },
  {
   "cell_type": "markdown",
   "metadata": {},
   "source": [
    "The next step is to archive this .tsv file and upload the .zip file to the Codalab competition page (Participate -> Submit/View Results -> \"Subtask 2b: Premise Classification, Development\"). Be sure to have only the .tsv in the zip, no folders and no hidden files.\n",
    "After successful submission, you will see the metrics. If you want your submission to be published on the leaderboard, you can press the \"Submit to Leaderboard\" button.\n",
    "If you have any questions related to submission format/evaluation/registration etc., please, write to veranchos@gmail.com. \n",
    "\n",
    "Good luck!🍀"
   ]
  }
 ],
 "metadata": {
  "kernelspec": {
   "display_name": "Python 3",
   "language": "python",
   "name": "python3"
  },
  "language_info": {
   "codemirror_mode": {
    "name": "ipython",
    "version": 3
   },
   "file_extension": ".py",
   "mimetype": "text/x-python",
   "name": "python",
   "nbconvert_exporter": "python",
   "pygments_lexer": "ipython3",
   "version": "3.6.5"
  }
 },
 "nbformat": 4,
 "nbformat_minor": 5
}
